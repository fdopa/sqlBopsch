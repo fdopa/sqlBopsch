{
    "metadata": {
        "kernelspec": {
            "name": "SQL",
            "display_name": "SQL",
            "language": "sql"
        },
        "language_info": {
            "name": "sql",
            "version": ""
        }
    },
    "nbformat_minor": 2,
    "nbformat": 4,
    "cells": [
        {
            "cell_type": "code",
            "source": [
                "pip install pandas matplotlib pyodbc\n",
                ""
            ],
            "metadata": {
                "azdata_cell_guid": "8044d308-6229-4cc5-9cd6-613cf4436013",
                "language": "sql"
            },
            "outputs": [],
            "execution_count": null
        },
        {
            "cell_type": "code",
            "source": [
                "# Importamos las bibliotecas necesarias\n",
                "import pandas as pd\n",
                "import matplotlib.pyplot as plt\n",
                "import pyodbc\n",
                "# Aquí creamos la conexión a la base de datos. \n",
                "# Tendrás que reemplazar 'your_driver', 'your_server', 'your_database', 'your_uid' y 'your_pwd' \n",
                "# con los detalles específicos de tu conexión.\n",
                "conn = pyodbc.connect('DRIVER={your_driver};SERVER=your_server;DATABASE=your_database;UID=your_uid;PWD=your_pwd')\n",
                "# Definimos la consulta SQL que queremos ejecutar. Esta consulta seleccionará la entidad y la suma total del monto \n",
                "# para cada entidad en el año 2019.\n",
                "query = \"\"\"\n",
                "SELECT entidad, SUM(monto) AS total_monto\n",
                "FROM [dbo].[infonavit]\n",
                "WHERE ano = 2019\n",
                "GROUP BY entidad\n",
                "\"\"\"\n",
                "# Ejecutamos la consulta SQL y guardamos los resultados en un DataFrame de pandas. \n",
                "# Un DataFrame es una estructura de datos bidimensional, similar a una tabla de una base de datos.\n",
                "df = pd.read_sql(query, conn)\n",
                "# Aquí creamos la gráfica de barras. \n",
                "# Establecemos el tamaño de la figura, creamos un gráfico de barras con 'entidad' en el eje y \n",
                "# y 'total_monto' en el eje x, y luego añadimos etiquetas a los ejes y un título.\n",
                "plt.figure(figsize=(10,6))\n",
                "plt.barh(df['entidad'], df['total_monto'])\n",
                "plt.xlabel('Total Monto')\n",
                "plt.ylabel('Entidad')\n",
                "plt.title('Total Monto por Entidad en 2019')\n",
                "# Finalmente, mostramos la gráfica.\n",
                "plt.show()\n",
                "language": "sql"
            },
            "outputs": [],
            "execution_count": null
        }
    ]
}